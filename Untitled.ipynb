{
 "cells": [
  {
   "cell_type": "code",
   "execution_count": 2,
   "id": "9fb48f8e-0161-4e44-8168-2594e04b2a48",
   "metadata": {},
   "outputs": [
    {
     "name": "stdout",
     "output_type": "stream",
     "text": [
      "2.16.2\n"
     ]
    }
   ],
   "source": [
    "import tensorflow as tf\n",
    "print(tf.__version__)"
   ]
  },
  {
   "cell_type": "code",
   "execution_count": 18,
   "id": "40b69726",
   "metadata": {},
   "outputs": [
    {
     "ename": "ShapeMismatchError",
     "evalue": "\nTensor shape mismatch.\n  Function: VGP_deprecated.__init__\n    Declared: /opt/anaconda3/lib/python3.12/site-packages/gpflow/models/vgp.py:58\n    Argument: data\n      Index: [0]\n        Expected: [N, D]\n        Actual:   [100, 10, 3]\n      Index: [1]\n        Expected: [N, P]\n        Actual:   [100, 1]\n",
     "output_type": "error",
     "traceback": [
      "\u001b[0;31m---------------------------------------------------------------------------\u001b[0m",
      "\u001b[0;31mShapeMismatchError\u001b[0m                        Traceback (most recent call last)",
      "Cell \u001b[0;32mIn[18], line 52\u001b[0m\n\u001b[1;32m     50\u001b[0m kernel \u001b[38;5;241m=\u001b[39m SignatureKernel(input_dim\u001b[38;5;241m=\u001b[39m\u001b[38;5;241m3\u001b[39m, degree\u001b[38;5;241m=\u001b[39m\u001b[38;5;241m3\u001b[39m)\n\u001b[1;32m     51\u001b[0m likelihood \u001b[38;5;241m=\u001b[39m gpflow\u001b[38;5;241m.\u001b[39mlikelihoods\u001b[38;5;241m.\u001b[39mBernoulli()\n\u001b[0;32m---> 52\u001b[0m model \u001b[38;5;241m=\u001b[39m VGPSignature((X, Y), kernel, likelihood)\n\u001b[1;32m     54\u001b[0m \u001b[38;5;66;03m# 모델 최적화\u001b[39;00m\n\u001b[1;32m     55\u001b[0m opt \u001b[38;5;241m=\u001b[39m gpflow\u001b[38;5;241m.\u001b[39moptimizers\u001b[38;5;241m.\u001b[39mScipy()\n",
      "Cell \u001b[0;32mIn[18], line 43\u001b[0m, in \u001b[0;36mVGPSignature.__init__\u001b[0;34m(self, data, kernel, likelihood)\u001b[0m\n\u001b[1;32m     41\u001b[0m \u001b[38;5;28;01mif\u001b[39;00m Y\u001b[38;5;241m.\u001b[39mndim \u001b[38;5;241m==\u001b[39m \u001b[38;5;241m1\u001b[39m:\n\u001b[1;32m     42\u001b[0m     Y \u001b[38;5;241m=\u001b[39m Y\u001b[38;5;241m.\u001b[39mreshape(\u001b[38;5;241m-\u001b[39m\u001b[38;5;241m1\u001b[39m, \u001b[38;5;241m1\u001b[39m)\n\u001b[0;32m---> 43\u001b[0m \u001b[38;5;28msuper\u001b[39m()\u001b[38;5;241m.\u001b[39m\u001b[38;5;21m__init__\u001b[39m(data\u001b[38;5;241m=\u001b[39m(X, Y), kernel\u001b[38;5;241m=\u001b[39mkernel, likelihood\u001b[38;5;241m=\u001b[39mlikelihood)\n",
      "File \u001b[0;32m/opt/anaconda3/lib/python3.12/site-packages/check_shapes/integration/tf.py:76\u001b[0m, in \u001b[0;36minstall_tf_integration.<locals>.TfWrapperPostProcessor.on_wrap.<locals>.wrapped_method\u001b[0;34m(self, *args, **kwargs)\u001b[0m\n\u001b[1;32m     75\u001b[0m \u001b[38;5;28;01mdef\u001b[39;00m \u001b[38;5;21mwrapped_method\u001b[39m(\u001b[38;5;28mself\u001b[39m: Any, \u001b[38;5;241m*\u001b[39margs: Any, \u001b[38;5;241m*\u001b[39m\u001b[38;5;241m*\u001b[39mkwargs: Any) \u001b[38;5;241m-\u001b[39m\u001b[38;5;241m>\u001b[39m Any:\n\u001b[0;32m---> 76\u001b[0m     \u001b[38;5;28;01mreturn\u001b[39;00m wrapped_function(\u001b[38;5;28mself\u001b[39m, \u001b[38;5;241m*\u001b[39margs, \u001b[38;5;241m*\u001b[39m\u001b[38;5;241m*\u001b[39mkwargs)\n",
      "File \u001b[0;32m/opt/anaconda3/lib/python3.12/site-packages/check_shapes/decorator.py:188\u001b[0m, in \u001b[0;36mcheck_shapes.<locals>._check_shapes.<locals>.wrapped_function\u001b[0;34m(*args, **kwargs)\u001b[0m\n\u001b[1;32m    184\u001b[0m             processed_specs\u001b[38;5;241m.\u001b[39mappend((arg_value, arg_spec\u001b[38;5;241m.\u001b[39mtensor, arg_context))\n\u001b[1;32m    186\u001b[0m     checker\u001b[38;5;241m.\u001b[39mcheck_shapes(processed_specs)\n\u001b[0;32m--> 188\u001b[0m _check_specs(pre_specs)\n\u001b[1;32m    190\u001b[0m \u001b[38;5;28;01mwith\u001b[39;00m set_shape_checker(checker):\n\u001b[1;32m    191\u001b[0m     \u001b[38;5;28;01mtry\u001b[39;00m:\n",
      "File \u001b[0;32m/opt/anaconda3/lib/python3.12/site-packages/check_shapes/decorator.py:186\u001b[0m, in \u001b[0;36mcheck_shapes.<locals>._check_shapes.<locals>.wrapped_function.<locals>._check_specs\u001b[0;34m(specs)\u001b[0m\n\u001b[1;32m    169\u001b[0m             arg_context \u001b[38;5;241m=\u001b[39m StackContext(\n\u001b[1;32m    170\u001b[0m                 bound_error_context,\n\u001b[1;32m    171\u001b[0m                 ParallelContext(\n\u001b[0;32m   (...)\u001b[0m\n\u001b[1;32m    181\u001b[0m                 ),\n\u001b[1;32m    182\u001b[0m             )\n\u001b[1;32m    184\u001b[0m         processed_specs\u001b[38;5;241m.\u001b[39mappend((arg_value, arg_spec\u001b[38;5;241m.\u001b[39mtensor, arg_context))\n\u001b[0;32m--> 186\u001b[0m checker\u001b[38;5;241m.\u001b[39mcheck_shapes(processed_specs)\n",
      "File \u001b[0;32m/opt/anaconda3/lib/python3.12/site-packages/check_shapes/checker.py:311\u001b[0m, in \u001b[0;36mShapeChecker.check_shapes\u001b[0;34m(self, checks)\u001b[0m\n\u001b[1;32m    307\u001b[0m shape_check \u001b[38;5;241m=\u001b[39m shape_check_queue\u001b[38;5;241m.\u001b[39mpop()\n\u001b[1;32m    309\u001b[0m \u001b[38;5;66;03m# Note that self._match_dims may not be able to match all dims. If that is the case it\u001b[39;00m\n\u001b[1;32m    310\u001b[0m \u001b[38;5;66;03m# adds the check to `_VariableState.waiting_for_varrank`:\u001b[39;00m\n\u001b[0;32m--> 311\u001b[0m dim_checks \u001b[38;5;241m=\u001b[39m \u001b[38;5;28mself\u001b[39m\u001b[38;5;241m.\u001b[39m_match_dims(shape_check)\n\u001b[1;32m    312\u001b[0m \u001b[38;5;28;01mfor\u001b[39;00m dim_spec, actual_dims, shape_possibly_truncated \u001b[38;5;129;01min\u001b[39;00m dim_checks:\n\u001b[1;32m    313\u001b[0m     \u001b[38;5;66;03m# Note that self._check_dim may revive checks from\u001b[39;00m\n\u001b[1;32m    314\u001b[0m     \u001b[38;5;66;03m# `_VariableState.waiting_for_varrank` and add them back to `shape_check_queue`:\u001b[39;00m\n\u001b[1;32m    315\u001b[0m     \u001b[38;5;28mself\u001b[39m\u001b[38;5;241m.\u001b[39m_check_dim(dim_spec, actual_dims, shape_possibly_truncated, shape_check_queue)\n",
      "File \u001b[0;32m/opt/anaconda3/lib/python3.12/site-packages/check_shapes/checker.py:472\u001b[0m, in \u001b[0;36mShapeChecker._match_dims\u001b[0;34m(self, shape_check)\u001b[0m\n\u001b[1;32m    469\u001b[0m n_unknown \u001b[38;5;241m=\u001b[39m \u001b[38;5;28mlen\u001b[39m(unknown_len_variables)\n\u001b[1;32m    471\u001b[0m \u001b[38;5;28;01mif\u001b[39;00m n_unknown \u001b[38;5;241m==\u001b[39m \u001b[38;5;241m0\u001b[39m:\n\u001b[0;32m--> 472\u001b[0m     \u001b[38;5;28mself\u001b[39m\u001b[38;5;241m.\u001b[39m_assert(unallocated_len \u001b[38;5;241m==\u001b[39m \u001b[38;5;241m0\u001b[39m)\n\u001b[1;32m    473\u001b[0m \u001b[38;5;28;01melse\u001b[39;00m:\n\u001b[1;32m    474\u001b[0m     \u001b[38;5;28mself\u001b[39m\u001b[38;5;241m.\u001b[39m_assert(unallocated_len \u001b[38;5;241m>\u001b[39m\u001b[38;5;241m=\u001b[39m \u001b[38;5;241m0\u001b[39m)\n",
      "File \u001b[0;32m/opt/anaconda3/lib/python3.12/site-packages/check_shapes/checker.py:607\u001b[0m, in \u001b[0;36mShapeChecker._assert\u001b[0;34m(self, condition)\u001b[0m\n\u001b[1;32m    603\u001b[0m         shape_error_context \u001b[38;5;241m=\u001b[39m ParallelContext(\n\u001b[1;32m    604\u001b[0m             (NoteContext(tensor_spec\u001b[38;5;241m.\u001b[39mnote), shape_error_context)\n\u001b[1;32m    605\u001b[0m         )\n\u001b[1;32m    606\u001b[0m     contexts\u001b[38;5;241m.\u001b[39mappend(StackContext(context, shape_error_context))\n\u001b[0;32m--> 607\u001b[0m \u001b[38;5;28;01mraise\u001b[39;00m ShapeMismatchError(ParallelContext(\u001b[38;5;28mtuple\u001b[39m(contexts)))\n",
      "\u001b[0;31mShapeMismatchError\u001b[0m: \nTensor shape mismatch.\n  Function: VGP_deprecated.__init__\n    Declared: /opt/anaconda3/lib/python3.12/site-packages/gpflow/models/vgp.py:58\n    Argument: data\n      Index: [0]\n        Expected: [N, D]\n        Actual:   [100, 10, 3]\n      Index: [1]\n        Expected: [N, P]\n        Actual:   [100, 1]\n"
     ]
    }
   ],
   "source": [
    "import numpy as np\n",
    "import tensorflow as tf\n",
    "import gpflow\n",
    "\n",
    "class SignatureKernel(gpflow.kernels.Kernel):\n",
    "    def __init__(self, input_dim, degree=3, variance=1.0, lengthscales=1.0):\n",
    "        super().__init__()\n",
    "        self.degree = degree\n",
    "        self.variance = gpflow.Parameter(variance, transform=gpflow.utilities.positive())\n",
    "        self.lengthscales = gpflow.Parameter(lengthscales, transform=gpflow.utilities.positive())\n",
    "    \n",
    "    def K(self, X, X2=None):\n",
    "        if X2 is None:\n",
    "            X2 = X\n",
    "        \n",
    "        K = tf.zeros((len(X), len(X2)))\n",
    "        for d in range(self.degree + 1):\n",
    "            K += self.variance * self._signature_inner_product(X, X2, d)\n",
    "        \n",
    "        return K\n",
    "    \n",
    "    def K_diag(self, X):\n",
    "        return tf.linalg.diag_part(self.K(X))\n",
    "    \n",
    "    def _signature_inner_product(self, X, X2, d):\n",
    "        if d == 0:\n",
    "            return tf.ones((len(X), len(X2)))\n",
    "        \n",
    "        X = X / self.lengthscales\n",
    "        X2 = X2 / self.lengthscales\n",
    "        \n",
    "        K = tf.einsum('ijk,ljk->il', X, X2)\n",
    "        for _ in range(d - 1):\n",
    "            K = tf.einsum('ijk,il,ljk->il', X, K, X2)\n",
    "        \n",
    "        return K\n",
    "\n",
    "class VGPSignature(gpflow.models.VGP):\n",
    "    def __init__(self, data, kernel, likelihood):\n",
    "        X, Y = data\n",
    "        if Y.ndim == 1:\n",
    "            Y = Y.reshape(-1, 1)\n",
    "        super().__init__(data=(X, Y), kernel=kernel, likelihood=likelihood)\n",
    "\n",
    "# 데이터 준비 (예시)\n",
    "X = np.random.randn(100, 10, 3)  # 100개의 시계열, 각 10 타임스텝, 3차원\n",
    "Y = np.random.randint(0, 2, (100,))  # 1차원 배열로 변경\n",
    "\n",
    "# 모델 정의\n",
    "kernel = SignatureKernel(input_dim=3, degree=3)\n",
    "likelihood = gpflow.likelihoods.Bernoulli()\n",
    "model = VGPSignature((X, Y), kernel, likelihood)\n",
    "\n",
    "# 모델 최적화\n",
    "opt = gpflow.optimizers.Scipy()\n",
    "opt.minimize(model.training_loss, model.trainable_variables)\n",
    "\n",
    "# 예측\n",
    "Xnew = np.random.randn(10, 10, 3)\n",
    "mean, var = model.predict_y(Xnew)\n",
    "\n",
    "print(\"Predictions mean:\", mean)\n",
    "print(\"Predictions variance:\", var)\n"
   ]
  }
 ],
 "metadata": {
  "kernelspec": {
   "display_name": "Python 3 (ipykernel)",
   "language": "python",
   "name": "python3"
  },
  "language_info": {
   "codemirror_mode": {
    "name": "ipython",
    "version": 3
   },
   "file_extension": ".py",
   "mimetype": "text/x-python",
   "name": "python",
   "nbconvert_exporter": "python",
   "pygments_lexer": "ipython3",
   "version": "3.12.2"
  }
 },
 "nbformat": 4,
 "nbformat_minor": 5
}
